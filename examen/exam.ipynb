{
 "cells": [
  {
   "cell_type": "code",
   "execution_count": 13,
   "metadata": {},
   "outputs": [
    {
     "name": "stdout",
     "output_type": "stream",
     "text": [
      "іван_78_@\n"
     ]
    }
   ],
   "source": [
    "class StringCombiner:\n",
    "    def __init__(self, name, age):\n",
    "        self.result_string = f\"{name}_{age}_@\"\n",
    "\n",
    "        print(self.result_string)\n",
    "\n",
    "input_name = input(\"Введіть імя: \")\n",
    "input_age = input(\"Введіть вік: \")\n",
    "\n",
    "string_combiner_instance = StringCombiner(input_name, input_age)\n"
   ]
  }
 ],
 "metadata": {
  "kernelspec": {
   "display_name": "Python 3",
   "language": "python",
   "name": "python3"
  },
  "language_info": {
   "codemirror_mode": {
    "name": "ipython",
    "version": 3
   },
   "file_extension": ".py",
   "mimetype": "text/x-python",
   "name": "python",
   "nbconvert_exporter": "python",
   "pygments_lexer": "ipython3",
   "version": "3.12.1"
  }
 },
 "nbformat": 4,
 "nbformat_minor": 2
}
