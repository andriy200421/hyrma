{
 "cells": [
  {
   "cell_type": "markdown",
   "metadata": {},
   "source": [
    "Запитуємось в ChatGPT як розпочати програмувати на Python\n",
    "відповідь ми трохи модифікували бо АІ давав просто рекоментадії які просто так не всталяться\n",
    "\n",
    "Звісно, ось початкова програма на Python для студентів-початківців, разом із поясненнями кожного кроку. Вам потрібно відкрити Jupyter Notebook та вставити цей код у комірку для Python."
   ]
  },
  {
   "cell_type": "code",
   "execution_count": 2,
   "metadata": {},
   "outputs": [
    {
     "ename": "SyntaxError",
     "evalue": "unterminated string literal (detected at line 4) (1282863390.py, line 4)",
     "output_type": "error",
     "traceback": [
      "\u001b[1;36m  Cell \u001b[1;32mIn[2], line 4\u001b[1;36m\u001b[0m\n\u001b[1;33m    ім'я = input(\"Введіть ваше ім'я: \")\u001b[0m\n\u001b[1;37m                                     ^\u001b[0m\n\u001b[1;31mSyntaxError\u001b[0m\u001b[1;31m:\u001b[0m unterminated string literal (detected at line 4)\n"
     ]
    }
   ],
   "source": [
    "# Програма для виведення привітання та введення імені користувача\n",
    "\n",
    "# Використовуємо функцію input() для отримання імені користувача\n",
    "ім'я = input(\"Введіть ваше ім'я: \")\n",
    "\n",
    "# Виводимо привітання разом із ім'ям користувача\n",
    "print(\"Привіт, \" + ім'я + \"!\")"
   ]
  }
 ],
 "metadata": {
  "kernelspec": {
   "display_name": "Python 3",
   "language": "python",
   "name": "python3"
  },
  "language_info": {
   "codemirror_mode": {
    "name": "ipython",
    "version": 3
   },
   "file_extension": ".py",
   "mimetype": "text/x-python",
   "name": "python",
   "nbconvert_exporter": "python",
   "pygments_lexer": "ipython3",
   "version": "3.12.1"
  }
 },
 "nbformat": 4,
 "nbformat_minor": 2
}
