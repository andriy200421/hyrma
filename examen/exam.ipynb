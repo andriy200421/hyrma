{
 "cells": [
  {
   "cell_type": "code",
   "execution_count": 7,
   "metadata": {},
   "outputs": [
    {
     "name": "stdout",
     "output_type": "stream",
     "text": [
      "кпке_43_@\n"
     ]
    }
   ],
   "source": [
    "def format(name, age):\n",
    "    formatted_string = f\"{name}_{age}_@\"\n",
    "    return formatted_string\n",
    "\n",
    "input_name = input(\"Введіть ім'я: \")\n",
    "input_age = input(\"Введіть вік: \")\n",
    "\n",
    "result = format(input_name, input_age)\n",
    "\n",
    "print(result)\n",
    "\n"
   ]
  }
 ],
 "metadata": {
  "kernelspec": {
   "display_name": "Python 3",
   "language": "python",
   "name": "python3"
  },
  "language_info": {
   "codemirror_mode": {
    "name": "ipython",
    "version": 3
   },
   "file_extension": ".py",
   "mimetype": "text/x-python",
   "name": "python",
   "nbconvert_exporter": "python",
   "pygments_lexer": "ipython3",
   "version": "3.12.1"
  }
 },
 "nbformat": 4,
 "nbformat_minor": 2
}
